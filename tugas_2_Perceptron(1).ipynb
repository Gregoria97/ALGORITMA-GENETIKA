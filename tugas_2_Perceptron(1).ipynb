#EXAMPLE 1
import numpy as np

# Fungsi aktivasi
def activation_function(net):
    if net > 0:
        return 1
    elif net < 0:
        return -1
    else:
        return 0

# Inisialisasi bobot dan bias
weights = np.array([0, 0, 0])  # w1, w2, b
learning_rate = 1
theta = 0

# Data pelatihan
inputs = np.array([
    [1, 1, 1],
    [1, 0, 1],
    [0, 1, 1],
    [0, 0, 1]
])
targets = np.array([1, -1, -1, -1])

# Pelatihan perceptron
epoch = 0
while True:
    epoch += 1
    weight_changes = 0
    print(f"\nEpoch {epoch}:")
    print("-" * 30)
    print("Input\tNet\tOutput\tTarget\tWeight Changes\tWeight")
    print("-" * 30)
    for i in range(len(inputs)):
        # Hitung net input
        net = np.dot(inputs[i], weights)

        # Hitung output
        output = activation_function(net)

        # Update bobot dan bias
        if output != targets[i]:
            weight_change = learning_rate * targets[i] * inputs[i]
            weights = weights + weight_change
            weight_changes += 1
        else:
            weight_change = np.array([0, 0, 0])

        print(f"{inputs[i]}\t{net:.2f}\t{output}\t{targets[i]}\t{weight_change}\t{weights}")

    # Kondisi berhenti
    if weight_changes == 0:
        break

# Pengujian
test_input = np.array([1, 1, 1])
net = np.dot(test_input, weights)
output = activation_function(net)
print(f"\nOutput untuk input {test_input}: {output}")


#EXAMPLE II
import numpy as np

# Fungsi aktivasi
def activation_function(net, theta):
    if net > theta:
        return 1
    else:
        return 0

# Inisialisasi bobot
weights = np.array([0.5, 0.5, 0.5])  # w1, w2, w3
learning_rate = 0.1
theta = 0.8

# Data pelatihan
inputs = np.array([
    [1, 0, 0],
    [0, 0, 1],
    [1, 0, 1],
    [1, 1, 1]
])
targets = np.array([0, 0, 0, 1])

# Pelatihan perceptron
for epoch in range(1, 11):
    weight_changes = 0
    print(f"\nEpoch {epoch}:")
    print("-" * 78)  # Sesuaikan panjang garis
    print("Input|Net|Output|Target|Weight Changes|Weight")
    print("-" * 78)  # Sesuaikan panjang garis
    for i in range(len(inputs)):
        # Hitung net input
        net = np.dot(inputs[i], weights)

        # Hitung output
        output = activation_function(net, theta)

        # Update bobot
        if output < targets[i]:
            weight_change = learning_rate * inputs[i]
            weights = weights + weight_change
            weight_changes += 1
        elif output > targets[i]:
            weight_change = -learning_rate * inputs[i]
            weights = weights + weight_change
            weight_changes += 1
        else:
            weight_change = np.array([0, 0, 0])

        # Cetak detail epoch dengan format yang lebih rapi
        print(f"{inputs[i]}|{net:.2f}|{output}|{targets[i]}|{weight_change}|{weights}")

# Pengujian (opsional)
test_input = np.array([1, 1, 1])
net = np.dot(test_input, weights)
output = activation_function(net, theta)
print(f"\nOutput untuk input {test_input}: {output}")
